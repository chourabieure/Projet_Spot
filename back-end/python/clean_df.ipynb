{
 "cells": [
  {
   "cell_type": "code",
   "execution_count": 4,
   "source": [
    "import pandas as pd\n",
    "import json\n",
    "df = pd.read_csv(\"st_arceau_p.csv\",sep=\";\")\n",
    "\n",
    "\n",
    "df = df.drop(['Geo Shape', 'gid','geom_o','geom_err','typologie','cdate','mdate','insee'], axis = 1)\n",
    "df\n",
    "\n",
    "# [{\"_id\":index,\"nombre\":row['nombre'],\"geo_x\":row['Geo Point'].split(',')[0],\"geo_y\":row['Geo Point'].split(',')[1]} for index,row in df.iterrows()]\n",
    "with open('cleaned_data.json', 'w') as f:\n",
    "    json.dump([{\"_id\":index,\"nombre\":row['nombre'],\"geo_x\":row['Geo Point'].split(',')[0],\"geo_y\":row['Geo Point'].split(',')[1]} for index,row in df.iterrows()], f)\n"
   ],
   "outputs": [],
   "metadata": {}
  }
 ],
 "metadata": {
  "orig_nbformat": 4,
  "language_info": {
   "name": "python",
   "version": "3.8.10",
   "mimetype": "text/x-python",
   "codemirror_mode": {
    "name": "ipython",
    "version": 3
   },
   "pygments_lexer": "ipython3",
   "nbconvert_exporter": "python",
   "file_extension": ".py"
  },
  "kernelspec": {
   "name": "python3",
   "display_name": "Python 3.8.10 64-bit"
  },
  "interpreter": {
   "hash": "916dbcbb3f70747c44a77c7bcd40155683ae19c65e1c03b4aa3499c5328201f1"
  }
 },
 "nbformat": 4,
 "nbformat_minor": 2
}